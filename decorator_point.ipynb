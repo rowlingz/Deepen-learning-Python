{
 "cells": [
  {
   "cell_type": "code",
   "execution_count": 1,
   "metadata": {},
   "outputs": [
    {
     "name": "stdout",
     "output_type": "stream",
     "text": [
      "Yes!\n"
     ]
    }
   ],
   "source": [
    "def shout(word='yes'):\n",
    "    return word.capitalize() + '!'\n",
    "\n",
    "print(shout())"
   ]
  },
  {
   "cell_type": "code",
   "execution_count": 2,
   "metadata": {},
   "outputs": [],
   "source": [
    "# 请注意我们并没有使用括号：因此我们没有调用函数，我们只是把函数 `shout` 赋值给变量，可以通过 `scream` 调用 `shout` 函数\n",
    "scream = shout"
   ]
  },
  {
   "cell_type": "code",
   "execution_count": 3,
   "metadata": {},
   "outputs": [
    {
     "name": "stdout",
     "output_type": "stream",
     "text": [
      "Yes!\n"
     ]
    }
   ],
   "source": [
    "print(scream())"
   ]
  },
  {
   "cell_type": "code",
   "execution_count": 4,
   "metadata": {},
   "outputs": [
    {
     "name": "stdout",
     "output_type": "stream",
     "text": [
      "Jack!\n"
     ]
    }
   ],
   "source": [
    "print(scream('jack'))"
   ]
  },
  {
   "cell_type": "code",
   "execution_count": 5,
   "metadata": {},
   "outputs": [],
   "source": [
    "del shout"
   ]
  },
  {
   "cell_type": "code",
   "execution_count": 6,
   "metadata": {},
   "outputs": [
    {
     "name": "stdout",
     "output_type": "stream",
     "text": [
      "name 'shout' is not defined\n"
     ]
    }
   ],
   "source": [
    "try:\n",
    "    print(shout())\n",
    "except NameError as e:\n",
    "    print(e)"
   ]
  },
  {
   "cell_type": "code",
   "execution_count": 7,
   "metadata": {},
   "outputs": [
    {
     "name": "stdout",
     "output_type": "stream",
     "text": [
      "Yes!\n"
     ]
    }
   ],
   "source": [
    "print(scream())"
   ]
  },
  {
   "cell_type": "code",
   "execution_count": 8,
   "metadata": {},
   "outputs": [],
   "source": [
    "def talk():\n",
    "    def whisper(word='yes'):\n",
    "        return word.lower() + '....'\n",
    "    \n",
    "    print(whisper())"
   ]
  },
  {
   "cell_type": "code",
   "execution_count": 9,
   "metadata": {},
   "outputs": [
    {
     "name": "stdout",
     "output_type": "stream",
     "text": [
      "yes....\n"
     ]
    }
   ],
   "source": [
    "talk()"
   ]
  },
  {
   "cell_type": "code",
   "execution_count": 10,
   "metadata": {},
   "outputs": [
    {
     "name": "stdout",
     "output_type": "stream",
     "text": [
      "name 'whisper' is not defined\n"
     ]
    }
   ],
   "source": [
    "try:\n",
    "    print(whisper())\n",
    "except NameError as e:\n",
    "    print(e)"
   ]
  },
  {
   "cell_type": "code",
   "execution_count": 11,
   "metadata": {},
   "outputs": [],
   "source": [
    "# 函数可以在另一个函数内部定义， 可以return另一个函数，也可以作为参数传递\n",
    "def getTalk(kind='shout'):\n",
    "    \n",
    "    def shout(word='yes'):\n",
    "        return word.capitalize() + '!'\n",
    "    \n",
    "    def whisper(word='yes'):\n",
    "        return word.lower() + '...'\n",
    "    \n",
    "    if kind == 'shout':\n",
    "        return shout\n",
    "    else:\n",
    "        return whisper\n",
    "    "
   ]
  },
  {
   "cell_type": "code",
   "execution_count": 12,
   "metadata": {},
   "outputs": [
    {
     "name": "stdout",
     "output_type": "stream",
     "text": [
      "<function getTalk.<locals>.shout at 0x0000013ABA5A96A8>\n"
     ]
    }
   ],
   "source": [
    "talk = getTalk()\n",
    "print(talk)"
   ]
  },
  {
   "cell_type": "code",
   "execution_count": 13,
   "metadata": {},
   "outputs": [
    {
     "name": "stdout",
     "output_type": "stream",
     "text": [
      "Yes!\n"
     ]
    }
   ],
   "source": [
    "print(talk())"
   ]
  },
  {
   "cell_type": "code",
   "execution_count": 14,
   "metadata": {},
   "outputs": [
    {
     "name": "stdout",
     "output_type": "stream",
     "text": [
      "<function getTalk.<locals>.whisper at 0x0000013AB95B7598>\n",
      "yes...\n"
     ]
    }
   ],
   "source": [
    "print(getTalk('whisper'))\n",
    "print(getTalk('whisper')())"
   ]
  },
  {
   "cell_type": "code",
   "execution_count": 15,
   "metadata": {},
   "outputs": [],
   "source": [
    "def doSomething(func):\n",
    "    print('I do something before then I call the function you gave me')\n",
    "    return func()"
   ]
  },
  {
   "cell_type": "code",
   "execution_count": 16,
   "metadata": {},
   "outputs": [
    {
     "name": "stdout",
     "output_type": "stream",
     "text": [
      "I do something before then I call the function you gave me\n"
     ]
    },
    {
     "data": {
      "text/plain": [
       "'Yes!'"
      ]
     },
     "execution_count": 16,
     "metadata": {},
     "output_type": "execute_result"
    }
   ],
   "source": [
    "doSomething(scream)"
   ]
  },
  {
   "cell_type": "code",
   "execution_count": 17,
   "metadata": {},
   "outputs": [],
   "source": [
    "# 装饰器基本实现原理\n",
    "def my_shiny_new_decorator(a_function_to_decorator):\n",
    "    \n",
    "    def the_wrapper_around_the_original_function():\n",
    "        print('before the function runs')\n",
    "        a_function_to_decorator()\n",
    "        print('after the function runs')\n",
    "    \n",
    "    return the_wrapper_around_the_original_function\n",
    "\n",
    "def a_stand_alone_function():\n",
    "    print(\"I am a stand alone function, don’t you dare modify me\")"
   ]
  },
  {
   "cell_type": "code",
   "execution_count": 18,
   "metadata": {},
   "outputs": [
    {
     "name": "stdout",
     "output_type": "stream",
     "text": [
      "I am a stand alone function, don’t you dare modify me\n"
     ]
    }
   ],
   "source": [
    "a_stand_alone_function()"
   ]
  },
  {
   "cell_type": "code",
   "execution_count": 19,
   "metadata": {},
   "outputs": [
    {
     "name": "stdout",
     "output_type": "stream",
     "text": [
      "before the function runs\n",
      "I am a stand alone function, don’t you dare modify me\n",
      "after the function runs\n"
     ]
    }
   ],
   "source": [
    "# 直接调用 用 my_shiny_new_decorator 返回的函数重写了 a_stand_alone_function 函数\n",
    "a_stand_alone_function_decorated = my_shiny_new_decorator(a_stand_alone_function)\n",
    "a_stand_alone_function_decorated()"
   ]
  },
  {
   "cell_type": "code",
   "execution_count": 20,
   "metadata": {},
   "outputs": [
    {
     "name": "stdout",
     "output_type": "stream",
     "text": [
      "before the function runs\n",
      "Leave me alone\n",
      "after the function runs\n"
     ]
    }
   ],
   "source": [
    "# 装饰器语法实现方式\n",
    "@my_shiny_new_decorator\n",
    "def another_stand_alone_function():\n",
    "    print('Leave me alone')\n",
    "    \n",
    "\n",
    "another_stand_alone_function()"
   ]
  },
  {
   "cell_type": "code",
   "execution_count": 21,
   "metadata": {},
   "outputs": [],
   "source": [
    "# 叠加多个装饰器\n",
    "\n",
    "def bread(func):\n",
    "    def wrapper():\n",
    "        print(\"</``````\\>\")\n",
    "        func()\n",
    "        print(\"<\\______/>\")\n",
    "    return wrapper\n",
    "\n",
    "def ingredients(func):\n",
    "    def wrapper():\n",
    "        print(\"#tomatoes#\")\n",
    "        func()\n",
    "        print(\"~salad~\")\n",
    "    return wrapper\n",
    "    \n",
    "def sandwich(food='--ham--'):\n",
    "    print(food)"
   ]
  },
  {
   "cell_type": "code",
   "execution_count": 22,
   "metadata": {},
   "outputs": [
    {
     "name": "stdout",
     "output_type": "stream",
     "text": [
      "--ham--\n"
     ]
    }
   ],
   "source": [
    "sandwich()"
   ]
  },
  {
   "cell_type": "code",
   "execution_count": 23,
   "metadata": {},
   "outputs": [
    {
     "name": "stdout",
     "output_type": "stream",
     "text": [
      "</``````\\>\n",
      "#tomatoes#\n",
      "--ham--\n",
      "~salad~\n",
      "<\\______/>\n"
     ]
    }
   ],
   "source": [
    "new_sandwich = bread(ingredients(sandwich))\n",
    "new_sandwich()"
   ]
  },
  {
   "cell_type": "code",
   "execution_count": 24,
   "metadata": {},
   "outputs": [
    {
     "name": "stdout",
     "output_type": "stream",
     "text": [
      "</``````\\>\n",
      "#tomatoes#\n",
      "--ham--\n",
      "~salad~\n",
      "<\\______/>\n"
     ]
    }
   ],
   "source": [
    "# 装饰器语法进行多个装饰器叠加\n",
    "@bread\n",
    "@ingredients\n",
    "def sandwich(food='--ham--'):\n",
    "    print(food)\n",
    "\n",
    "sandwich()"
   ]
  },
  {
   "cell_type": "code",
   "execution_count": 25,
   "metadata": {},
   "outputs": [
    {
     "name": "stdout",
     "output_type": "stream",
     "text": [
      "#tomatoes#\n",
      "</``````\\>\n",
      "--ham--\n",
      "<\\______/>\n",
      "~salad~\n"
     ]
    }
   ],
   "source": [
    "@ingredients\n",
    "@bread\n",
    "def sandwich(food='--ham--'):\n",
    "    print(food)\n",
    "\n",
    "sandwich()"
   ]
  },
  {
   "cell_type": "code",
   "execution_count": 26,
   "metadata": {},
   "outputs": [
    {
     "name": "stdout",
     "output_type": "stream",
     "text": [
      "I got args！look:  peter venkman\n",
      "my name is  peter venkman\n"
     ]
    }
   ],
   "source": [
    "# 装饰器传递参数\n",
    "\n",
    "def a_decorator_passing_arguments(function_to_decorator):\n",
    "    def wrapper_accepting_arguments(arg1, arg2):\n",
    "        print(\"I got args！look: \", arg1, arg2)\n",
    "        function_to_decorator(arg1, arg2)\n",
    "    return wrapper_accepting_arguments\n",
    "\n",
    "\n",
    "@a_decorator_passing_arguments\n",
    "def print_full_name(first_name, last_name):\n",
    "    print(\"my name is \", first_name, last_name)\n",
    "\n",
    "print_full_name('peter', 'venkman')"
   ]
  },
  {
   "cell_type": "code",
   "execution_count": 27,
   "metadata": {},
   "outputs": [],
   "source": [
    "# 装饰器方法，第一个参数是对当前对象的引用，self\n",
    "\n",
    "def method_friendly_decorator(method_to_decorate):\n",
    "    def wrapper(self, lie):\n",
    "        lie = lie - 3\n",
    "        return method_to_decorate(self, lie)\n",
    "    return wrapper\n",
    "\n",
    "class Lucy(object):\n",
    "    def __init__(self):\n",
    "        self.age = 32\n",
    "    \n",
    "    @method_friendly_decorator\n",
    "    def sayYourAge(self, lie):\n",
    "        print('I am {0}, what did you think?'.format(self.age + lie))"
   ]
  },
  {
   "cell_type": "code",
   "execution_count": 28,
   "metadata": {},
   "outputs": [
    {
     "name": "stdout",
     "output_type": "stream",
     "text": [
      "I am 26, what did you think?\n"
     ]
    }
   ],
   "source": [
    "l = Lucy()\n",
    "l.sayYourAge(-3)"
   ]
  },
  {
   "cell_type": "code",
   "execution_count": 29,
   "metadata": {},
   "outputs": [],
   "source": [
    "# 通用装饰器， *agrs, **kwargs\n",
    "\n",
    "def a_decorator_passing_arbitrary_arguments(function_to_decorator):\n",
    "    def wrapper_accpeting_arbitrary_arguments(*args, **kwargs):\n",
    "        print('Do I have args?: ')\n",
    "        print(args)\n",
    "        print(kwargs)\n",
    "        function_to_decorator(*args, **kwargs)\n",
    "    return wrapper_accpeting_arbitrary_arguments"
   ]
  },
  {
   "cell_type": "code",
   "execution_count": 30,
   "metadata": {},
   "outputs": [
    {
     "name": "stdout",
     "output_type": "stream",
     "text": [
      "Do I have args?: \n",
      "()\n",
      "{}\n",
      "Python is cool, no argument here.\n"
     ]
    }
   ],
   "source": [
    "@a_decorator_passing_arbitrary_arguments\n",
    "def function_with_no_argument():\n",
    "    print('Python is cool, no argument here.')\n",
    "\n",
    "function_with_no_argument()"
   ]
  },
  {
   "cell_type": "code",
   "execution_count": 31,
   "metadata": {},
   "outputs": [
    {
     "name": "stdout",
     "output_type": "stream",
     "text": [
      "Do I have args?: \n",
      "(1, 2, 3)\n",
      "{}\n",
      "1 2 3\n"
     ]
    }
   ],
   "source": [
    "@a_decorator_passing_arbitrary_arguments\n",
    "def function_with_arguments(a, b, c):\n",
    "    print(a, b, c)\n",
    "\n",
    "function_with_arguments(1, 2, 3)"
   ]
  },
  {
   "cell_type": "code",
   "execution_count": 32,
   "metadata": {},
   "outputs": [
    {
     "name": "stdout",
     "output_type": "stream",
     "text": [
      "Do I have args?: \n",
      "('Bill', 'Linus', 'Steve')\n",
      "{'platypus': 'Indeed!'}\n",
      "Do Bill, Linus and Steve like platypus? Indeed!\n"
     ]
    }
   ],
   "source": [
    "@a_decorator_passing_arbitrary_arguments\n",
    "def function_with_named_arguments(a, b, c, platypus='Why not ?'):\n",
    "    print('Do {0}, {1} and {2} like platypus? {3}'.format(a, b, c, platypus))\n",
    "\n",
    "function_with_named_arguments('Bill', 'Linus', 'Steve', platypus='Indeed!')"
   ]
  },
  {
   "cell_type": "code",
   "execution_count": 33,
   "metadata": {},
   "outputs": [
    {
     "name": "stdout",
     "output_type": "stream",
     "text": [
      "Do I have args?: \n",
      "(<__main__.Mary object at 0x0000013ABA5BF6D8>, -5)\n",
      "{}\n",
      "I am 26, what did you think?\n"
     ]
    }
   ],
   "source": [
    "class Mary(object):\n",
    "    def __init__(self):\n",
    "        self.age = 31\n",
    "    \n",
    "    @a_decorator_passing_arbitrary_arguments\n",
    "    def sayYourAge(self, lie):\n",
    "        print('I am {0}, what did you think?'.format(self.age + lie))\n",
    "\n",
    "m = Mary()\n",
    "m.sayYourAge(-5)"
   ]
  },
  {
   "cell_type": "code",
   "execution_count": 34,
   "metadata": {},
   "outputs": [
    {
     "name": "stdout",
     "output_type": "stream",
     "text": [
      "I make decorators! I am executed only once: when you make me create a decorator.\n",
      "As a decorator maker, I return a decorator\n"
     ]
    }
   ],
   "source": [
    "def decorator_maker():\n",
    " \n",
    "    print('I make decorators! I am executed only once: when you make me create a decorator.')\n",
    "    def my_decorator(func):\n",
    "        print(\"I am a decorator! I am executed only when you decorate a function.\")\n",
    "        def wrapper():\n",
    "            print(\"I am the wrapper around the decorated function. \")\n",
    "            print(\"As the wrapper, I return the RESULT of the decorated function.\")\n",
    "            return func()\n",
    "        print(\"As the decorator, I return the wrapped function.\")\n",
    "        return wrapper\n",
    "    print(\"As a decorator maker, I return a decorator\")\n",
    "    return my_decorator\n",
    "\n",
    "new_decorator = decorator_maker()\n",
    "        "
   ]
  },
  {
   "cell_type": "code",
   "execution_count": 35,
   "metadata": {},
   "outputs": [
    {
     "name": "stdout",
     "output_type": "stream",
     "text": [
      "I am a decorator! I am executed only when you decorate a function.\n",
      "As the decorator, I return the wrapped function.\n"
     ]
    }
   ],
   "source": [
    "def decorated_function():\n",
    "    print(\"I am the decorated function.\")\n",
    "\n",
    "decorated_function = new_decorator(decorated_function)"
   ]
  },
  {
   "cell_type": "code",
   "execution_count": 36,
   "metadata": {},
   "outputs": [
    {
     "name": "stdout",
     "output_type": "stream",
     "text": [
      "I am the wrapper around the decorated function. \n",
      "As the wrapper, I return the RESULT of the decorated function.\n",
      "I am the decorated function.\n"
     ]
    }
   ],
   "source": [
    "decorated_function()"
   ]
  },
  {
   "cell_type": "code",
   "execution_count": 37,
   "metadata": {
    "scrolled": true
   },
   "outputs": [
    {
     "name": "stdout",
     "output_type": "stream",
     "text": [
      "I make decorators! I am executed only once: when you make me create a decorator.\n",
      "As a decorator maker, I return a decorator\n",
      "I am a decorator! I am executed only when you decorate a function.\n",
      "As the decorator, I return the wrapped function.\n"
     ]
    }
   ],
   "source": [
    "@decorator_maker()\n",
    "def decorated_function():\n",
    "    print(\"I am the decorated function.\")\n",
    "\n"
   ]
  },
  {
   "cell_type": "code",
   "execution_count": 38,
   "metadata": {},
   "outputs": [
    {
     "name": "stdout",
     "output_type": "stream",
     "text": [
      "I am the wrapper around the decorated function. \n",
      "As the wrapper, I return the RESULT of the decorated function.\n",
      "I am the decorated function.\n"
     ]
    }
   ],
   "source": [
    "decorated_function()"
   ]
  },
  {
   "cell_type": "code",
   "execution_count": 39,
   "metadata": {},
   "outputs": [
    {
     "name": "stdout",
     "output_type": "stream",
     "text": [
      "I make decorators! And I accept arguments: Leonard Sheldon\n",
      "I am the decorator. Somehow you passed me arguments:  Leonard Sheldon\n"
     ]
    }
   ],
   "source": [
    "#装饰器参数的传递\n",
    "def decotator_maker_with_arguments(decorator_arg1, decorator_arg2):\n",
    "    print(\"I make decorators! And I accept arguments:\" , decorator_arg1, decorator_arg2)\n",
    "    \n",
    "    def my_decorator(func):\n",
    "        print(\"I am the decorator. Somehow you passed me arguments: \", decorator_arg1, decorator_arg2)\n",
    "        def wrapper(func_arg1, funct_arg2):\n",
    "            print(\"I am the wrapper around the decorated function.\\n I can access all the variables\\n\\t- from the decorator:{0} {1},\\n\\t- from the function call: {2} {3}\\n Then I can pass them to the decorated function\".format(decorator_arg1, decorator_arg2, func_arg1, funct_arg2))\n",
    "            return func(func_arg1, funct_arg2)\n",
    "        return wrapper\n",
    "    return my_decorator\n",
    "\n",
    "\n",
    "@decotator_maker_with_arguments('Leonard', 'Sheldon')\n",
    "def decorated_function_with_arguments(function_arg1, function_arg2):\n",
    "    print(\"I am the decorated function and only knows about my arguments: {0} {1}\".format(function_arg1, function_arg2))\n",
    "\n",
    "            "
   ]
  },
  {
   "cell_type": "code",
   "execution_count": 40,
   "metadata": {},
   "outputs": [
    {
     "name": "stdout",
     "output_type": "stream",
     "text": [
      "I am the wrapper around the decorated function.\n",
      " I can access all the variables\n",
      "\t- from the decorator:Leonard Sheldon,\n",
      "\t- from the function call: Rajesh Howard\n",
      " Then I can pass them to the decorated function\n",
      "I am the decorated function and only knows about my arguments: Rajesh Howard\n"
     ]
    }
   ],
   "source": [
    "decorated_function_with_arguments('Rajesh', 'Howard')"
   ]
  },
  {
   "cell_type": "code",
   "execution_count": 41,
   "metadata": {},
   "outputs": [
    {
     "name": "stdout",
     "output_type": "stream",
     "text": [
      "Decorated with (42, 404, 1024) {}\n",
      "Hello Universe and everything\n"
     ]
    }
   ],
   "source": [
    "# 一个装饰器的装饰器\n",
    "def decorator_with_args(decorator_to_enhance):\n",
    "    def decorator_maker(*args, **kwargs):\n",
    "        def wrapper(func):\n",
    "            return decorator_to_enhance(func,*args, **kwargs)\n",
    "        return wrapper\n",
    "    return decorator_maker\n",
    "\n",
    "@decorator_with_args\n",
    "def decorated_decorator(func, *args, **kwargs): \n",
    "    def wrapper(function_arg1, function_arg2):\n",
    "        print('Decorated with', args, kwargs)\n",
    "        return func(function_arg1, function_arg2)\n",
    "    return wrapper\n",
    "\n",
    "@decorated_decorator(42, 404, 1024)\n",
    "def decorated_function(function_arg1, function_arg2):\n",
    "    print('Hello', function_arg1, function_arg2)\n",
    "\n",
    "decorated_function('Universe and', 'everything')\n",
    "    "
   ]
  },
  {
   "cell_type": "code",
   "execution_count": 42,
   "metadata": {},
   "outputs": [],
   "source": [
    "import os"
   ]
  },
  {
   "cell_type": "code",
   "execution_count": 43,
   "metadata": {},
   "outputs": [
    {
     "data": {
      "text/plain": [
       "'C:\\\\python_project\\\\test'"
      ]
     },
     "execution_count": 43,
     "metadata": {},
     "output_type": "execute_result"
    }
   ],
   "source": [
    "os.path.abspath('.')"
   ]
  },
  {
   "cell_type": "code",
   "execution_count": null,
   "metadata": {},
   "outputs": [],
   "source": []
  }
 ],
 "metadata": {
  "kernelspec": {
   "display_name": "Python 3",
   "language": "python",
   "name": "python3"
  },
  "language_info": {
   "codemirror_mode": {
    "name": "ipython",
    "version": 3
   },
   "file_extension": ".py",
   "mimetype": "text/x-python",
   "name": "python",
   "nbconvert_exporter": "python",
   "pygments_lexer": "ipython3",
   "version": "3.6.8"
  }
 },
 "nbformat": 4,
 "nbformat_minor": 2
}
